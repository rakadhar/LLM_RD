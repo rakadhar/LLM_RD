{
 "cells": [
  {
   "cell_type": "markdown",
   "id": "b7541574-4e17-4c17-a246-b1530d0b6f60",
   "metadata": {},
   "source": [
    "Visit Ollama :- https://ollama.com/\n",
    "Once everything is set up, the Ollama server should automatically start running on your machine.\n",
    "\n",
    "To check, open your browser and go to:\n",
    "http://localhost:11434/\n",
    "\n",
    "You should see a message that says \"Ollama is running.\"\n",
    "\n",
    "If you don’t see that message, open a new Terminal (on Mac) or PowerShell (on Windows), and run the following command:\n",
    "ollama serve\n",
    "Then, in a separate Terminal or PowerShell window, run:\n",
    "ollama pull llama3.2"
   ]
  },
  {
   "cell_type": "code",
   "execution_count": null,
   "id": "fb868cd8-f6df-451a-bbad-5ade311e6d3d",
   "metadata": {},
   "outputs": [],
   "source": [
    "#compare Llama3.2 vs deepseek locally"
   ]
  },
  {
   "cell_type": "code",
   "execution_count": 1,
   "id": "aad872d7-ec60-41a6-a977-8e2562aa0f7a",
   "metadata": {},
   "outputs": [
    {
     "name": "stdout",
     "output_type": "stream",
     "text": [
      "hello\n"
     ]
    }
   ],
   "source": [
    "# imports\n",
    "\n",
    "import requests\n",
    "from bs4 import BeautifulSoup\n",
    "from IPython.display import Markdown, display\n",
    "print(\"hello\")"
   ]
  },
  {
   "cell_type": "code",
   "execution_count": 3,
   "id": "e64b0d3f-bb2d-4c56-aa67-6f2a36fd5638",
   "metadata": {},
   "outputs": [
    {
     "name": "stderr",
     "output_type": "stream",
     "text": [
      "\u001b[?25lpulling manifest â ‹ \u001b[?25h\u001b[?25l\u001b[2K\u001b[1Gpulling manifest â ™ \u001b[?25h\u001b[?25l\u001b[2K\u001b[1Gpulling manifest â ¹ \u001b[?25h\u001b[?25l\u001b[2K\u001b[1Gpulling manifest â ¸ \u001b[?25h\u001b[?25l\u001b[2K\u001b[1Gpulling manifest â ¼ \u001b[?25h\u001b[?25l\u001b[2K\u001b[1Gpulling manifest â ´ \u001b[?25h\u001b[?25l\u001b[2K\u001b[1Gpulling manifest \n",
      "pulling dde5aa3fc5ff... 100% â–•â–ˆâ–ˆâ–ˆâ–ˆâ–ˆâ–ˆâ–ˆâ–ˆâ–ˆâ–ˆâ–ˆâ–ˆâ–ˆâ–ˆâ–ˆâ–ˆâ–� 2.0 GB                         \n",
      "pulling 966de95ca8a6... 100% â–•â–ˆâ–ˆâ–ˆâ–ˆâ–ˆâ–ˆâ–ˆâ–ˆâ–ˆâ–ˆâ–ˆâ–ˆâ–ˆâ–ˆâ–ˆâ–ˆâ–� 1.4 KB                         \n",
      "pulling fcc5a6bec9da... 100% â–•â–ˆâ–ˆâ–ˆâ–ˆâ–ˆâ–ˆâ–ˆâ–ˆâ–ˆâ–ˆâ–ˆâ–ˆâ–ˆâ–ˆâ–ˆâ–ˆâ–� 7.7 KB                         \n",
      "pulling a70ff7e570d9... 100% â–•â–ˆâ–ˆâ–ˆâ–ˆâ–ˆâ–ˆâ–ˆâ–ˆâ–ˆâ–ˆâ–ˆâ–ˆâ–ˆâ–ˆâ–ˆâ–ˆâ–� 6.0 KB                         \n",
      "pulling 56bb8bd477a5... 100% â–•â–ˆâ–ˆâ–ˆâ–ˆâ–ˆâ–ˆâ–ˆâ–ˆâ–ˆâ–ˆâ–ˆâ–ˆâ–ˆâ–ˆâ–ˆâ–ˆâ–�   96 B                         \n",
      "pulling 34bb5ab01051... 100% â–•â–ˆâ–ˆâ–ˆâ–ˆâ–ˆâ–ˆâ–ˆâ–ˆâ–ˆâ–ˆâ–ˆâ–ˆâ–ˆâ–ˆâ–ˆâ–ˆâ–�  561 B                         \n",
      "verifying sha256 digest \n",
      "writing manifest \n",
      "success \u001b[?25h\n"
     ]
    }
   ],
   "source": [
    "# Pull the required model before use (change model name as needed)\n",
    "# Run in a Jupyter cell or terminal if not already pulled\n",
    "!ollama pull llama3.2\n",
    "# Optional pulls (uncomment if needed):\n",
    "# !ollama pull deepseek-r1:1.5b\n",
    "# !ollama pull phi\n"
   ]
  },
  {
   "cell_type": "code",
   "execution_count": 4,
   "id": "6b5b2cc5-ee96-49ee-8e9f-4e59717a77a5",
   "metadata": {},
   "outputs": [],
   "source": [
    "# Base configuration for Ollama\n",
    "OLLAMA_API = \"http://localhost:11434/api/chat\"\n",
    "MODEL = \"llama3.2\"  # You can change this to \"deepseek-r1:1.5b\" or \"phi\"\n",
    "HEADERS = {\"Content-Type\": \"application/json\"}\n",
    "\n",
    "# Alternative: Use OpenAI-style interface with Ollama\n",
    "ollama_client = OpenAI(base_url='http://localhost:11434/v1', api_key='ollama')\n"
   ]
  },
  {
   "cell_type": "code",
   "execution_count": 5,
   "id": "5918ab12-38ca-4082-8c81-1f373463ec14",
   "metadata": {},
   "outputs": [
    {
     "name": "stdout",
     "output_type": "stream",
     "text": [
      "Generative AI has numerous business applications across various industries, offering exciting opportunities for innovation, efficiency, and competitive advantage. Here are some examples:\n",
      "\n",
      "1. **Creative Content Generation**: Generative AI can be used to generate high-quality content such as images, videos, music, and text. This can be particularly useful for companies in the entertainment, advertising, and marketing sectors.\n",
      "2. **Personalized Product Design**: Generative AI can help design personalized products based on customer preferences, behavior, and needs. This can be applied to companies manufacturing clothing, furniture, or electronics.\n",
      "3. **Automation of Repetitive Tasks**: Generative AI can automate repetitive tasks such as data entry, bookkeeping, or customer service by generating text responses or suggestions for human agents.\n",
      "4. **Data Analysis and Insights Generation**: Generative AI can analyze large datasets and generate insights, predicting future trends and patterns. This can be applied to companies in the finance, healthcare, or education sectors.\n",
      "5. **Recommendation Systems**: Generative AI can help create personalized recommendation systems for e-commerce, social media, or content platforms.\n",
      "6. **Cybersecurity Threat Detection**: Generative AI can analyze threat data to detect and predict potential cyber threats, enabling proactive defense strategies.\n",
      "7. **Medical Imaging Analysis**: Generative AI can analyze medical images to detect diseases earlier and more accurately than human doctors, reducing diagnosis time and improving patient outcomes.\n",
      "8. **Automated Writing Assistants**: Generative AI can help write news articles, blog posts, or social media content, freeing up human writers' time for more complex tasks.\n",
      "9. **Customer Service Chatbots**: Generative AI can create conversational chatbots that respond to customer inquiries, providing 24/7 support and improving customer satisfaction.\n",
      "10. **Brand Identity and Social Media Management**: Generative AI can help generate social media posts, suggest brand hashtags, or create engaging website content to build brand awareness.\n",
      "\n",
      "Industry-specific applications of Generative AI include:\n",
      "\n",
      "1. **Retail**: Product design, personalized marketing, and social media engagement\n",
      "2. **Finance**: Algorithmic analysis, risk prediction, and data visualization\n",
      "3. **Healthcare**: Medical imaging analysis, disease diagnosis, and personalized medicine\n",
      "4. **Media & Entertainment**: Content creation, image and video editing, and audience analysis\n",
      "5. **Education**: Personalized learning pathways, adaptive assessments, and educational content generation\n",
      "\n",
      "These examples illustrate the vast potential of Generative AI to transform business operations, improve efficiency, and drive innovation in various industries.\n"
     ]
    }
   ],
   "source": [
    "#Simple Message Interaction Function\n",
    "def call_model(model, message):\n",
    "    \"\"\"\n",
    "    Send a simple message to the Ollama model and return the response.\n",
    "    \"\"\"\n",
    "    messages = [{\"role\": \"user\", \"content\": message}]\n",
    "    response = ollama_client.chat.completions.create(\n",
    "        model=model,\n",
    "        messages=messages\n",
    "    )\n",
    "    return response.choices[0].message.content\n",
    "\n",
    "# Example usage\n",
    "print(call_model(MODEL, \"Describe some business applications of Generative AI\"))\n"
   ]
  },
  {
   "cell_type": "code",
   "execution_count": 6,
   "id": "2a0e6211-13cd-496c-b1e9-610816b4ec85",
   "metadata": {},
   "outputs": [],
   "source": [
    "#Webpage Scraper \n",
    "class Website:\n",
    "    \"\"\"\n",
    "    A class to fetch and parse a webpage using BeautifulSoup.\n",
    "    Extracts the title and clean body text.\n",
    "    \"\"\"\n",
    "    def __init__(self, url):\n",
    "        self.url = url\n",
    "        headers = {\n",
    "            \"User-Agent\": \"Mozilla/5.0 (Windows NT 10.0; Win64; x64)\"\n",
    "        }\n",
    "        response = requests.get(url, headers=headers)\n",
    "        soup = BeautifulSoup(response.content, 'html.parser')\n",
    "        self.title = soup.title.string if soup.title else \"No title found\"\n",
    "\n",
    "        # Remove unnecessary tags\n",
    "        for tag in soup.body([\"script\", \"style\", \"img\", \"input\"]):\n",
    "            tag.decompose()\n",
    "\n",
    "        self.text = soup.body.get_text(separator=\"\\n\", strip=True)\n",
    "\n"
   ]
  },
  {
   "cell_type": "code",
   "execution_count": 7,
   "id": "bf416c54-e3b5-490c-83da-5bf0a6efe7f2",
   "metadata": {},
   "outputs": [],
   "source": [
    "#Prompt Engineering for Summarization ;-)\n",
    "# Define system prompt for summarization\n",
    "system_prompt = (\n",
    "    \"You are an assistant that analyzes the contents of a website \"\n",
    "    \"and provides a short summary, ignoring text that might be navigation related. \"\n",
    "    \"Respond in markdown.\"\n",
    ")\n",
    "\n",
    "def user_prompt_for(website):\n",
    "    \"\"\"\n",
    "    Generate a user prompt based on website content.\n",
    "    \"\"\"\n",
    "    return (\n",
    "        f\"You are looking at a website titled {website.title}.\\n\"\n",
    "        \"The contents of this website are as follows. \"\n",
    "        \"Please provide a short summary of this website in markdown. \"\n",
    "        \"If it includes news or announcements, summarize these too.\\n\\n\"\n",
    "        + website.text\n",
    "    )\n",
    "\n",
    "def messages_for(website):\n",
    "    \"\"\"\n",
    "    Construct the full message format for the chat model.\n",
    "    \"\"\"\n",
    "    return [\n",
    "        {\"role\": \"system\", \"content\": system_prompt},\n",
    "        {\"role\": \"user\", \"content\": user_prompt_for(website)}\n",
    "    ]\n"
   ]
  },
  {
   "cell_type": "code",
   "execution_count": 11,
   "id": "882faaca-0daa-489a-a6a0-e322a74a76a3",
   "metadata": {},
   "outputs": [
    {
     "data": {
      "text/markdown": [
       "This document appears to be an outdated version of the CMS (Centers for Medicare and Medicaid Services) quality measure specifications for nursing homes in the United States.\n",
       "\n",
       "To summarize, there are two main categories of quality measures:\n",
       "\n",
       "1. **Short-Stay Quality Measures**:\n",
       "\t* Focus on the care provided to short-stay residents.\n",
       "\t* Include measures such as:\n",
       "\t\t+ Re-hospitalization after a nursing home admission\n",
       "\t\t+ Outpatient emergency department visits\n",
       "\t\t+ Antisychotic medication use (prescription and non-prescription)\n",
       "2. **Long Stay Quality Measures**:\n",
       "\t* Focus on the care provided to long-stay residents.\n",
       "\t* Include measures such as:\n",
       "\t\t+ Hospitalization rates per 1,000 days of care\n",
       "\t\t+ Outpatient emergency department visits per 1,000 days of care\n",
       "\t\t+ Medication use (antipsyholic medication)\n",
       "\t\t+ Falls with major injury\n",
       "\t\t+ Pressure ulcer development\n",
       "\n",
       "The quality measures are used to determine the Five-Star Quality Rating System scores for nursing homes on Nursing Home Compare.\n",
       "\n",
       "**Key Notes**\n",
       "\n",
       "* The most recent version of the QM Users' Manual is available at [www.cms.gov/medicare/part-participation-in-care-quality-programs/qualmeasures](http://www.cms.gov/medicare/part-participation-in-care-quality-programs/qualmeasures).\n",
       "* The Risk-Adjustment-Appendix-File-for-MDS-3.0-Quality-Measures-Users-Manual-V17 can be accessed at [www cms.gov/medicare/part-participation-in-care-quality-programs/qualmeasures](http://www.cms.gov/medicare/part-participation-in-care-quality-programs/qualmeasures).\n",
       "* The COVID-19 vaccination measures have been recently added to the CMS quality measure specifications. These measures include:\n",
       "\t+ Assessing and providing Seasonal Influenza Vaccine (influenza or pneumonia) to residents\n",
       "\t+ Assessing and paying for Pneumococcal Vaccine (PCV) to adults 65 and older when recommended by Medicare Advantage and prescription drug plans\n",
       "\n",
       "Please note that this document is from [2025] and might not reflect the most current information. Please check the official CMS website or contact a qualified expert for the latest and updated information on quality measure specifications, as they are subject to change with new policy updates."
      ],
      "text/plain": [
       "<IPython.core.display.Markdown object>"
      ]
     },
     "metadata": {},
     "output_type": "display_data"
    }
   ],
   "source": [
    "#Summarization Logic with llama\n",
    "def summarize(url, model=\"llama3.2\"):\n",
    "    \"\"\"\n",
    "    Generate a markdown-formatted summary of a given URL using specified model.\n",
    "    \"\"\"\n",
    "    site = Website(url)\n",
    "    response = ollama_client.chat.completions.create(\n",
    "        model=model,\n",
    "        messages=messages_for(site)\n",
    "    )\n",
    "    return response.choices[0].message.content\n",
    "    \n",
    "# Example usage:\n",
    "display_summary(\"https://www.cms.gov/medicare/quality/nursing-home-improvement/quality-measures\", model=\"llama3.2\")\n",
    "\n"
   ]
  },
  {
   "cell_type": "code",
   "execution_count": 10,
   "id": "5e56beab-5af8-4aa9-8b82-10e4b9a3b44c",
   "metadata": {},
   "outputs": [
    {
     "data": {
      "text/markdown": [
       "<think>\n",
       "Okay, so I need to understand how to work with this CSV file about nursing measures from nursing home compare. The user provided some details on files and plug-ins, but I'm not exactly sure where to start or what steps to take.\n",
       "\n",
       "First, I think I should look at the structure of a typical CSV file. It usually has headers followed by rows of data. In this case, it's probably the measure names, types (like quality measures), categories under which the measure falls, the time periods mentioned like \"Year\" and \"Quarter\", different seasons, days per 1000 residents, regions, and dates.\n",
       "\n",
       "I also noticed there are other tabs included, so maybe each season corresponds to a column labeled with that season. That makes things more organized.\n",
       "\n",
       "Now, for the plug-ins section, names seem familiar—SPARKS, SCREE, SWAG, etc. Each of these could be different tools for analyzing the data. For example, SPARKS might help in something related to quality improvement.\n",
       "\n",
       "Looking at the sub-group sections under each measure type, I see something like \"Nursing Measures and Trends.\" That's probably where specific measures are grouped together, allowing users to filter and sort them easily.\n",
       "\n",
       "I remember that sometimes CSV files can have headers indicating what each column represents. In this case, the header would list all possible types of nursing measures from various categories under different seasons or times.\n",
       "\n",
       "Putting it together, I think the best way is to start by opening the CSV file in Excel or Google Sheets because those tools are user-friendly and don't require writing code. Once the data is in a spreadsheet, I can sort the rows based on season, time periods within a season, regions, etc., using different headers.\n",
       "\n",
       "However, if there's more structure, especially with tabs included for additional fields like the category or region under each measure, using programming languages like Python or R would be beneficial. These tools have libraries that can read CSV files and manipulate the data with ease.\n",
       "\n",
       "I should also consider how I would interpret the columns. Each row represents a measure, which might be associated with different categories (like pressure ulcers or falls). The different seasons could affect how often these measures are measured—maybe Spring and Fall for fall-related issues.\n",
       "\n",
       "If someone wants to analyze trends over quarters within a season, they can sort by Quarter, then by Season to see if there are significant changes from one quarter to the next. This could help identify seasonal peaks where more treatments or interventions are needed.\n",
       "\n",
       "Understanding the categories under each measure might show that some metrics are grouped together, like pressure ulcers and falls within the same category, making it easier for healthcare providers to track their activities quickly.\n",
       "\n",
       "I wonder about the potential issues a user might face. For example, how does one handle missing data? Do all seasons have information across every time period? That could affect conclusions drawn from the data. Maybe they'll need to do some imputation or note any missing entries and consider them as no data for that particular measure in that season.\n",
       "\n",
       "Another thought is about the different time periods. Which quarters are considered how many, like 1-2 quarters vs 3-4? Does that affect the comparison significantly? That's something to think about when interpreting trends.\n",
       "\n",
       "In terms of plug-ins, if they have to run more complex analyses using SPARKS or SCREE, I'd imagine those might require some knowledge of their syntax or specific libraries. Learning a bit on how these plug-ins integrate with Excel or other platforms would be helpful. Maybe there are online tutorials for someone who isn't tech-savvy.\n",
       "\n",
       "Also, if they need more advanced stats, using R or Python could offer better capabilities. Code examples might help, but without more experience in programming or knowing the correct libraries to use, that might be a bit daunting initially.\n",
       "\n",
       "I should also consider how this relates to broader healthcare policies or interventions. Understanding which measures are under certain categories could give insights into areas needing attention. For instance, if pressure ulcers are high within a season, it's probably a problem that needs more intervention strategies.\n",
       "\n",
       "In summary, after thinking through the CSV structure and possible data analysis with tools like Excel/VB and programming languages, I realize there are multiple ways to approach interpreting this dataset. Starting with basic spreadsheet functions might be helpful for those less familiar with more robust analysis methods.\n",
       "</think>\n",
       "\n",
       "To effectively interpret the nursing measures from nursing home compare, follow a structured approach, considering both manual spreadsheet use and potential programming-based solutions:\n",
       "\n",
       "### Step-by-Step Approach\n",
       "\n",
       "1. **Understand the CSV Structure:**\n",
       "   - Open the CSV file in Excel or Google Sheets for easy data manipulation.\n",
       "   - Identify headers to understand each column's meaning (measure name, type, time period, etc.).\n",
       "\n",
       "2. **Use Excels/Variants:**\n",
       "   - Utilize Excel’s basic features, including sorting by season, quarters within a season, and regions.\n",
       "   - Filter the dataset based on seasons or specific categories using different columns.\n",
       "\n",
       "3. **Explore Plug-Ins for Advanced Analysis:**\n",
       "   - Consider integrating SPARKS, SCREE, SWAG, etc., which offer data analysis tools tailored to healthcare trends. Study their syntax and libraries if needed.\n",
       "\n",
       "4. **Programming Techniques:**\n",
       "   - Use Python or R if familiarization is needed. Install relevant libraries using packages like pandas for DataFrame manipulation.\n",
       "   - Write code examples if advanced statistics are required.\n",
       "\n",
       "5. **Interpret Trends and Patterns:**\n",
       "   - Analyze seasonal variations in treatment effectiveness, such as pressure ulcers peak during specific quarters.\n",
       "   - Grouped metrics (e.g., falls/pressure ulcers) can reveal shared trends and require attention to interventions.\n",
       "\n",
       "By combining manual spreadsheet use with programming tools, you can efficiently analyze the dataset for meaningful insights into nursing home outcomes."
      ],
      "text/plain": [
       "<IPython.core.display.Markdown object>"
      ]
     },
     "metadata": {},
     "output_type": "display_data"
    }
   ],
   "source": [
    "#Display Summary in Jupyter\n",
    "\n",
    "def display_summary(url, model=\"deepseek-r1:1.5b\"):\n",
    "    \"\"\"\n",
    "    Display the summary of a website in Jupyter using markdown.\n",
    "    \"\"\"\n",
    "    summary = summarize(url, model)\n",
    "    display(Markdown(summary))\n",
    "\n",
    "# Example usage:\n",
    "display_summary(\"https://www.cms.gov/medicare/quality/nursing-home-improvement/quality-measures\", model=\"deepseek-r1:1.5b\")\n"
   ]
  },
  {
   "cell_type": "code",
   "execution_count": null,
   "id": "13c92030-6a47-4683-b325-de67bfc17b74",
   "metadata": {},
   "outputs": [],
   "source": []
  }
 ],
 "metadata": {
  "kernelspec": {
   "display_name": "Python 3 (ipykernel)",
   "language": "python",
   "name": "python3"
  },
  "language_info": {
   "codemirror_mode": {
    "name": "ipython",
    "version": 3
   },
   "file_extension": ".py",
   "mimetype": "text/x-python",
   "name": "python",
   "nbconvert_exporter": "python",
   "pygments_lexer": "ipython3",
   "version": "3.11.11"
  }
 },
 "nbformat": 4,
 "nbformat_minor": 5
}
